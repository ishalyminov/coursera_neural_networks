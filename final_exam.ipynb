{
 "cells": [
  {
   "cell_type": "code",
   "execution_count": 1,
   "metadata": {
    "collapsed": true
   },
   "outputs": [],
   "source": [
    "from math import exp"
   ]
  },
  {
   "cell_type": "code",
   "execution_count": 3,
   "metadata": {},
   "outputs": [
    {
     "name": "stdout",
     "output_type": "stream",
     "text": [
      "0.119202922022\n"
     ]
    }
   ],
   "source": [
    "# Q10 - NOT\n",
    "w_1 = 1.0\n",
    "w_2 = -1.5\n",
    "v_1 = 0.0\n",
    "v_2 = 1.0\n",
    "b = -0.5\n",
    "\n",
    "neg_E = b + v_1 * w_1 + v_2 * w_2\n",
    "p_h_given_v = 1.0 / (1.0 + exp(-neg_E))\n",
    "print p_h_given_v"
   ]
  },
  {
   "cell_type": "code",
   "execution_count": 3,
   "metadata": {},
   "outputs": [
    {
     "name": "stdout",
     "output_type": "stream",
     "text": [
      "1.999999983\n"
     ]
    }
   ],
   "source": [
    "# Q11\n",
    "x = 1.0\n",
    "t = 5.0\n",
    "w1 = 1.0986123\n",
    "w2 = 4.0\n",
    "y_pred = w2 * (1.0 / (1.0 + exp(-w1 * x)))\n",
    "cost = 0.5 * (y_pred - t) ** 2\n",
    "print cost"
   ]
  },
  {
   "cell_type": "code",
   "execution_count": 5,
   "metadata": {},
   "outputs": [
    {
     "name": "stdout",
     "output_type": "stream",
     "text": [
      "-1.49999998513\n"
     ]
    }
   ],
   "source": [
    "# Q12 - NOT\n",
    "x = 1.0\n",
    "t = 5.0\n",
    "w1 = 1.0986123\n",
    "w2 = 4.0\n",
    "sigm = 1.0 / (1.0 + exp(-w1 * x))\n",
    "y_pred = w2 * sigm\n",
    "cost = 0.5 * (y_pred - t) ** 2\n",
    "\n",
    "d_cost_d_w1 = (y_pred - t) * w2 * sigm * (1.0 - sigm) * x\n",
    "print d_cost_d_w1"
   ]
  }
 ],
 "metadata": {
  "kernelspec": {
   "display_name": "Python 2",
   "language": "python",
   "name": "python2"
  },
  "language_info": {
   "codemirror_mode": {
    "name": "ipython",
    "version": 2
   },
   "file_extension": ".py",
   "mimetype": "text/x-python",
   "name": "python",
   "nbconvert_exporter": "python",
   "pygments_lexer": "ipython2",
   "version": "2.7.12"
  }
 },
 "nbformat": 4,
 "nbformat_minor": 2
}
