{
 "cells": [
  {
   "cell_type": "markdown",
   "metadata": {},
   "source": [
    "Task 4"
   ]
  },
  {
   "cell_type": "code",
   "execution_count": 1,
   "metadata": {},
   "outputs": [],
   "source": [
    "import numpy as np"
   ]
  },
  {
   "cell_type": "code",
   "execution_count": 2,
   "metadata": {
    "collapsed": true
   },
   "outputs": [],
   "source": [
    "w12 = -2\n",
    "b1 = 1\n",
    "b2 = 1"
   ]
  },
  {
   "cell_type": "code",
   "execution_count": 3,
   "metadata": {
    "collapsed": true
   },
   "outputs": [],
   "source": [
    "def E(v1, v2):\n",
    "    return - (v1 * b1 + v2 * b2) - v1 * v2 * w12"
   ]
  },
  {
   "cell_type": "code",
   "execution_count": 4,
   "metadata": {
    "collapsed": true
   },
   "outputs": [],
   "source": [
    "energies = []\n",
    "energies.append(E(0, 0))\n",
    "energies.append(E(0, 1))\n",
    "energies.append(E(1, 0))\n",
    "energies.append(E(1, 1))"
   ]
  },
  {
   "cell_type": "code",
   "execution_count": 5,
   "metadata": {
    "collapsed": true
   },
   "outputs": [],
   "source": [
    "probs = [np.exp(-e) for e in energies]"
   ]
  },
  {
   "cell_type": "code",
   "execution_count": 7,
   "metadata": {},
   "outputs": [
    {
     "name": "stdout",
     "output_type": "stream",
     "text": [
      "0.365529289315\n"
     ]
    }
   ],
   "source": [
    "p_1_0 = probs[2] / sum(probs)\n",
    "print p_1_0"
   ]
  },
  {
   "cell_type": "markdown",
   "metadata": {},
   "source": [
    "Task 2"
   ]
  },
  {
   "cell_type": "code",
   "execution_count": 8,
   "metadata": {
    "collapsed": true
   },
   "outputs": [],
   "source": [
    "w12 = -10\n",
    "b1 = 1\n",
    "b2 = 1"
   ]
  },
  {
   "cell_type": "code",
   "execution_count": 11,
   "metadata": {},
   "outputs": [
    {
     "name": "stdout",
     "output_type": "stream",
     "text": [
      "8\n",
      "0\n",
      "-1\n"
     ]
    }
   ],
   "source": [
    "print E(1, 1)\n",
    "print E(0, 0)\n",
    "print E(0, 1)"
   ]
  },
  {
   "cell_type": "markdown",
   "metadata": {},
   "source": [
    "Task 5"
   ]
  },
  {
   "cell_type": "code",
   "execution_count": 13,
   "metadata": {
    "collapsed": true
   },
   "outputs": [],
   "source": [
    "Wac = 1\n",
    "Wbc = 2\n",
    "Wce = 2\n",
    "Wcd = 2\n",
    "Wbe = -3\n",
    "Wad = -2\n",
    "Wde = 3\n",
    "\n",
    "def energy_5(a, b, c, d, e):\n",
    "    return - (Wad + Wac) * a - (Wbc * Wbe) * b - (Wac + Wbc + Wcd + Wce) * c + (Wad + Wcd + Wde) * d + (Wbe + Wce + Wde) * e"
   ]
  },
  {
   "cell_type": "code",
   "execution_count": 21,
   "metadata": {},
   "outputs": [
    {
     "name": "stdout",
     "output_type": "stream",
     "text": [
      "[-7, -6, -5, -4, -4, -3, -2, -1, -1, 0, 0, 1, 1, 2, 2, 2, 3, 3, 3, 4, 4, 5, 5, 6, 6, 7, 8, 9, 9, 10, 11, 12]\n"
     ]
    }
   ],
   "source": [
    "from itertools import product\n",
    "\n",
    "energies = [energy_5(*item) for item in product([0, 1], [0, 1], [0, 1], [0, 1], [0, 1])]\n",
    "print sorted(energies)"
   ]
  }
 ],
 "metadata": {
  "kernelspec": {
   "display_name": "Python 2",
   "language": "python",
   "name": "python2"
  },
  "language_info": {
   "codemirror_mode": {
    "name": "ipython",
    "version": 2
   },
   "file_extension": ".py",
   "mimetype": "text/x-python",
   "name": "python",
   "nbconvert_exporter": "python",
   "pygments_lexer": "ipython2",
   "version": "2.7.13"
  }
 },
 "nbformat": 4,
 "nbformat_minor": 2
}
