{
 "cells": [
  {
   "cell_type": "code",
   "execution_count": 28,
   "metadata": {
    "collapsed": true
   },
   "outputs": [],
   "source": [
    "import numpy as np\n",
    "from itertools import product\n",
    "from math import exp"
   ]
  },
  {
   "cell_type": "markdown",
   "metadata": {},
   "source": [
    "Task 2\n",
    "=="
   ]
  },
  {
   "cell_type": "code",
   "execution_count": 7,
   "metadata": {
    "collapsed": true
   },
   "outputs": [],
   "source": [
    "w12 = -10\n",
    "b1 = 1\n",
    "b2 = 1"
   ]
  },
  {
   "cell_type": "code",
   "execution_count": 22,
   "metadata": {},
   "outputs": [
    {
     "name": "stdout",
     "output_type": "stream",
     "text": [
      "simultaneous: 8 or 0\n",
      "alternating: -1\n"
     ]
    }
   ],
   "source": [
    "print 'simultaneous: {} or {}'.format(E(1, 1), E(0, 0))\n",
    "print 'alternating: {}'.format(E(0, 1))"
   ]
  },
  {
   "cell_type": "markdown",
   "metadata": {},
   "source": [
    "Task 4 (1)\n",
    "=="
   ]
  },
  {
   "cell_type": "code",
   "execution_count": 41,
   "metadata": {},
   "outputs": [
    {
     "name": "stdout",
     "output_type": "stream",
     "text": [
      "0.47046585797\n"
     ]
    }
   ],
   "source": [
    "w1 = 3.0\n",
    "w2 = -1.0\n",
    "bh = -2.0\n",
    "\n",
    "def neg_E(h, v1, v2):\n",
    "    return bh * h + v1 * w1 * h + v2 * w2 * h\n",
    "\n",
    "neg_Es = {conf: neg_E(*conf) for conf in product([0, 1], [0, 1], [0, 1])}\n",
    "p_v1_1_v2_0 = (exp(neg_Es[(1, 1, 0)]) + exp(neg_Es[(0, 1, 0)])) / sum(map(exp, neg_Es.values()))\n",
    "print p_v1_1_v2_0"
   ]
  },
  {
   "cell_type": "markdown",
   "metadata": {},
   "source": [
    "Task 4 (2)\n",
    "=="
   ]
  },
  {
   "cell_type": "code",
   "execution_count": 43,
   "metadata": {},
   "outputs": [
    {
     "name": "stdout",
     "output_type": "stream",
     "text": [
      "0.365529289315\n"
     ]
    }
   ],
   "source": [
    "w12 = -2\n",
    "b1 = 1\n",
    "b2 = 1\n",
    "\n",
    "def neg_E(v1, v2):\n",
    "    return v1 * b1 + v2 * b2 + v1 * v2 * w12\n",
    "\n",
    "neg_Es = {conf: neg_E(*conf) for conf in product([0, 1], [0, 1])}\n",
    "p_v1_1_v2_0 = exp(neg_Es[(1, 0)]) / sum(map(exp, neg_Es.values()))\n",
    "print p_v1_1_v2_0"
   ]
  },
  {
   "cell_type": "markdown",
   "metadata": {},
   "source": [
    "Task 5\n",
    "=="
   ]
  },
  {
   "cell_type": "code",
   "execution_count": 20,
   "metadata": {
    "collapsed": true
   },
   "outputs": [],
   "source": [
    "Wac = 1\n",
    "Wbc = 1\n",
    "Wce = 2\n",
    "Wcd = 2\n",
    "Wbe = -3\n",
    "Wad = -2\n",
    "Wde = 3\n",
    "\n",
    "def energy_5(a, b, c, d, e):\n",
    "    return - (Wad + Wac) * a - (Wbc + Wbe) * b - (Wac + Wbc + Wcd + Wce) * c - (Wad + Wcd + Wde) * d - (Wbe + Wce + Wde) * e"
   ]
  },
  {
   "cell_type": "code",
   "execution_count": 23,
   "metadata": {},
   "outputs": [
    {
     "name": "stdout",
     "output_type": "stream",
     "text": [
      "-11\t00111\n",
      "-10\t10111\n",
      "-9\t00110\n",
      "-9\t01111\n",
      "-8\t00101\n",
      "-8\t10110\n",
      "-8\t11111\n",
      "-7\t01110\n",
      "-7\t10101\n",
      "-6\t00100\n",
      "-6\t01101\n",
      "-6\t11110\n",
      "-5\t00011\n",
      "-5\t10100\n",
      "-5\t11101\n",
      "-4\t01100\n",
      "-4\t10011\n",
      "-3\t00010\n",
      "-3\t01011\n",
      "-3\t11100\n",
      "-2\t00001\n",
      "-2\t10010\n",
      "-2\t11011\n",
      "-1\t01010\n",
      "-1\t10001\n",
      "0\t00000\n",
      "0\t01001\n",
      "0\t11010\n",
      "1\t10000\n",
      "1\t11001\n",
      "2\t01000\n",
      "3\t11000\n"
     ]
    }
   ],
   "source": [
    "energies = [(energy_5(*item), item) for item in product([0, 1], [0, 1], [0, 1], [0, 1], [0, 1])]\n",
    "for energy, conf in sorted(energies):\n",
    "    print '{}\\t{}'.format(energy, ''.join(map(str, conf)))"
   ]
  }
 ],
 "metadata": {
  "kernelspec": {
   "display_name": "Python 2",
   "language": "python",
   "name": "python2"
  },
  "language_info": {
   "codemirror_mode": {
    "name": "ipython",
    "version": 2
   },
   "file_extension": ".py",
   "mimetype": "text/x-python",
   "name": "python",
   "nbconvert_exporter": "python",
   "pygments_lexer": "ipython2",
   "version": "2.7.12"
  }
 },
 "nbformat": 4,
 "nbformat_minor": 2
}
