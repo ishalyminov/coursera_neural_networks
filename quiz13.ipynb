{
 "cells": [
  {
   "cell_type": "code",
   "execution_count": 6,
   "metadata": {
    "collapsed": true
   },
   "outputs": [],
   "source": [
    "import itertools\n",
    "import math"
   ]
  },
  {
   "cell_type": "code",
   "execution_count": 7,
   "metadata": {
    "collapsed": true
   },
   "outputs": [],
   "source": [
    "def minus_E(h1, h2, v, w1, w2):\n",
    "    return h1 * v * w1 + h2 * v * w2"
   ]
  },
  {
   "cell_type": "code",
   "execution_count": 30,
   "metadata": {},
   "outputs": [],
   "source": [
    "def p_hidden_equals_1(in_visible_state, in_visible_weight):\n",
    "     return 1.0 / (1.0 + math.exp(-in_visible_state * in_visible_weight))"
   ]
  },
  {
   "cell_type": "code",
   "execution_count": 19,
   "metadata": {
    "collapsed": true
   },
   "outputs": [],
   "source": [
    "w1 = -6.90675478\n",
    "w2 = 0.40546511"
   ]
  },
  {
   "cell_type": "code",
   "execution_count": 24,
   "metadata": {},
   "outputs": [
    {
     "name": "stdout",
     "output_type": "stream",
     "text": [
      "h1:0.0\th2: 0.0\tv:0.0\t-E: 0.0\tp: 0.153786945746\n",
      "h1:0.0\th2: 0.0\tv:1.0\t-E: 0.0\tp: 0.153786945746\n",
      "h1:0.0\th2: 1.0\tv:0.0\t-E: 0.0\tp: 0.153786945746\n",
      "h1:0.0\th2: 1.0\tv:1.0\t-E: 0.40546511\tp: 0.230680419055\n",
      "h1:1.0\th2: 0.0\tv:0.0\t-E: 0.0\tp: 0.153786945746\n",
      "h1:1.0\th2: 0.0\tv:1.0\t-E: -6.90675478\tp: 0.000153940886424\n",
      "h1:1.0\th2: 1.0\tv:0.0\t-E: 0.0\tp: 0.153786945746\n",
      "h1:1.0\th2: 1.0\tv:1.0\t-E: -6.50128967\tp: 0.000230911330073\n"
     ]
    }
   ],
   "source": [
    "states = [tup for tup in itertools.product([0.0,1.0], [0.0, 1.0], [0.0, 1.0])]\n",
    "Es = []\n",
    "exp_Es = []\n",
    "for state in states:\n",
    "    E_i = minus_E(state[0], state[1], state[2], w1, w2)\n",
    "    Es.append(E_i)\n",
    "    exp_Es.append(math.exp(E_i))\n",
    "p = {}\n",
    "for state, E_i, exp_E_i in zip(states, Es, exp_Es):\n",
    "    p[state] = exp_E_i / sum(exp_Es)\n",
    "    print 'h1:{}\\th2: {}\\tv:{}\\t-E: {}\\tp: {}'.format(state[0], state[1], state[2], E_i, exp_E_i / sum(exp_Es))"
   ]
  },
  {
   "cell_type": "code",
   "execution_count": 25,
   "metadata": {},
   "outputs": [
    {
     "name": "stdout",
     "output_type": "stream",
     "text": [
      "0.600000000454\n"
     ]
    }
   ],
   "source": [
    "# P(v = 1 | h1 = 0, h2 = 1)\n",
    "p1 = p[(0, 1, 1)] / (p[(0, 1, 1)] + p[(0, 1, 0)])\n",
    "print p1"
   ]
  },
  {
   "cell_type": "code",
   "execution_count": 32,
   "metadata": {},
   "outputs": [
    {
     "name": "stdout",
     "output_type": "stream",
     "text": [
      "0.5\n",
      "0.5\n",
      "0.150000000114\n"
     ]
    }
   ],
   "source": [
    "# P(v = 1, h1 = 0, h2 = 1) =\n",
    "# P(v = 1 | h1 = 0, h2 = 1) * P(h1 = 0, h2 = 1) = \n",
    "# P(v = 1 | h1 = 0, h2 = 1) * P(h1 = 0) * P(h2 = 1) due to marginal independence\n",
    "# INCORRECT!!\n",
    "\n",
    "p_h1_0 = 0.5 # 1.0 - p_hidden_equals_1(1.0, w1)\n",
    "p_h2_1 = 0.5 # p_hidden_equals_1(1.0, w2)\n",
    "p2 = p1 * p_h1_0 * p_h2_1\n",
    "print p_h1_0\n",
    "print p_h2_1\n",
    "print p2"
   ]
  },
  {
   "cell_type": "code",
   "execution_count": 42,
   "metadata": {},
   "outputs": [
    {
     "name": "stdout",
     "output_type": "stream",
     "text": [
      "0.0\n",
      "0.399999999546\n"
     ]
    }
   ],
   "source": [
    "d_c011_dw1 = (1.0 / p2) * 0.5 * 0.5 * p1 * (1.0 - p1) * 0.0 * 1.0\n",
    "print d_c011_dw1\n",
    "d_c011_dw2 = (1.0 / p2) * 0.5 * 0.5 * p1 * (1.0 - p1) * 1.0 * 1.0\n",
    "print d_c011_dw2"
   ]
  },
  {
   "cell_type": "code",
   "execution_count": 55,
   "metadata": {},
   "outputs": [],
   "source": [
    "# all of a sudden\n",
    "w1 = 10.0\n",
    "w2 = -4.0"
   ]
  },
  {
   "cell_type": "code",
   "execution_count": 56,
   "metadata": {},
   "outputs": [
    {
     "name": "stdout",
     "output_type": "stream",
     "text": [
      "h1:0.0\th2: 0.0\tv:0.0\t-E: 0.0\tp: 4.45733845405e-05\n",
      "h1:0.0\th2: 0.0\tv:1.0\t-E: 0.0\tp: 4.45733845405e-05\n",
      "h1:0.0\th2: 1.0\tv:0.0\t-E: 0.0\tp: 4.45733845405e-05\n",
      "h1:0.0\th2: 1.0\tv:1.0\t-E: -4.0\tp: 8.16390015293e-07\n",
      "h1:1.0\th2: 0.0\tv:0.0\t-E: 0.0\tp: 4.45733845405e-05\n",
      "h1:1.0\th2: 0.0\tv:1.0\t-E: 10.0\tp: 0.98179412994\n",
      "h1:1.0\th2: 1.0\tv:0.0\t-E: 0.0\tp: 4.45733845405e-05\n",
      "h1:1.0\th2: 1.0\tv:1.0\t-E: 6.0\tp: 0.0179821867471\n"
     ]
    }
   ],
   "source": [
    "states = [tup for tup in itertools.product([0.0,1.0], [0.0, 1.0], [0.0, 1.0])]\n",
    "Es = []\n",
    "exp_Es = []\n",
    "for state in states:\n",
    "    E_i = minus_E(state[0], state[1], state[2], w1, w2)\n",
    "    Es.append(E_i)\n",
    "    exp_Es.append(math.exp(E_i))\n",
    "p = {}\n",
    "for state, E_i, exp_E_i in zip(states, Es, exp_Es):\n",
    "    p[state] = exp_E_i / sum(exp_Es)\n",
    "    print 'h1:{}\\th2: {}\\tv:{}\\t-E: {}\\tp: {}'.format(state[0], state[1], state[2], E_i, exp_E_i / sum(exp_Es))"
   ]
  },
  {
   "cell_type": "code",
   "execution_count": 58,
   "metadata": {},
   "outputs": [
    {
     "name": "stdout",
     "output_type": "stream",
     "text": [
      "0.0347233374483\n"
     ]
    }
   ],
   "source": [
    "# P(h2=1 | v=1, h1=0) = P(v=1, h1=0 | h2=1) P (h2=1) / (P(v=1, h1=0 | h2=1) + P(v=1, h1=0 | h2=0))\n",
    "\n",
    "# P(v=1, h1=0 | h2=1) = P(v=1 | h1=0, h2=1) * P(h1=0 | h2=0) = P(v=1 | h1=0, h2=1) * P(h1=0)\n",
    "# P(v=1, h1=0 | h2=0) = P(v=1 | h1=0, h2=0) * P(h1=0)\n",
    "\n",
    "p_h2_1 = 0.5\n",
    "p_h2_0 = 0.5\n",
    "\n",
    "p_v_1__h1_0_h2_1 = p[(0, 1, 1)] / (p[(0, 1, 1)] + p[(0, 1, 0)])\n",
    "p_v_1__h1_0_h2_0 = p[(0, 0, 1)] / (p[(0, 0, 1)] + p[(0, 0, 0)])\n",
    "\n",
    "p3 = p_v_1__h1_0_h2_1 * p_h2_1 / (p_v_1__h1_0_h2_1 * p_h2_1 + p_v_1__h1_0_h2_0 * p_h2_0)\n",
    "print p3"
   ]
  },
  {
   "cell_type": "code",
   "execution_count": 59,
   "metadata": {},
   "outputs": [
    {
     "name": "stdout",
     "output_type": "stream",
     "text": [
      "0.499392428739\n"
     ]
    }
   ],
   "source": [
    "# P(h2=1 | v=1, h1=1) = P(v=1, h1=1 | h2=1) P (h2=1) / (P(v=1, h1=1 | h2=1) + P(v=1, h1=1 | h2=0))\n",
    "# P(v=1, h1=1 | h2=1) = P(v=1 | h1=1, h2=1) * P(h1=1 | h2=1) = P(v=1 | h1=1, h2=1) * P(h1=1)\n",
    "# P(v=1, h1=1 | h2=0) = P(v=1 | h1=0, h2=0) * P(h1=0)\n",
    "\n",
    "p_h2_1 = 0.5\n",
    "p_h2_0 = 0.5\n",
    "p_v_1__h1_1_h2_1 = p[(1.0, 1.0, 1.0)] / (p[(1.0, 1.0, 1.0)] + p[(1.0, 1.0, 0.0)])\n",
    "\n",
    "p_v_1__h1_1_h2_0 = p[(1.0, 0.0, 1.0)] / (p[(1.0, 0.0, 1.0)] + p[(1.0, 0.0, 0.0)])\n",
    "\n",
    "p4 = p_v_1__h1_1_h2_1 * p_h2_1 / (p_v_1__h1_1_h2_1 * p_h2_1 + p_v_1__h1_1_h2_0 * p_h2_0)\n",
    "print p4"
   ]
  }
 ],
 "metadata": {
  "kernelspec": {
   "display_name": "Python 2",
   "language": "python",
   "name": "python2"
  },
  "language_info": {
   "codemirror_mode": {
    "name": "ipython",
    "version": 2
   },
   "file_extension": ".py",
   "mimetype": "text/x-python",
   "name": "python",
   "nbconvert_exporter": "python",
   "pygments_lexer": "ipython2",
   "version": "2.7.12"
  }
 },
 "nbformat": 4,
 "nbformat_minor": 2
}
